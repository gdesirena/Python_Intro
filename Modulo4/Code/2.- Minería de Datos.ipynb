{
 "cells": [
  {
   "cell_type": "markdown",
   "metadata": {},
   "source": [
    "<img style=\"float: left;;\" src='../Imagenes/iteso.jpg' width=\"50\" height=\"100\"/></a>\n",
    "\n",
    "# <center> <font color= #000047> Módulo IV: Taxonomía de Datos </font> </center>\n",
    "\n"
   ]
  },
  {
   "cell_type": "markdown",
   "metadata": {},
   "source": [
    "\n",
    "Un dato es una representacion simbolica (numerica, alfabetica, algoritmica, espacial, etc.) de un atributo o variable cuantitativa o cualitativa. Los datos\n",
    "describen hechos empiricos, fenomenos y entidades. Tambien suele ser llamado\n",
    "dato a un valor que recibe una computadora por algun medio, los datos representan la informacion que el programador manipula en la construccion de una\n",
    "solucion o en el desarrollo de un algoritmo.\n",
    "\n",
    "## Clasificacion de tipos de datos.\n",
    "\n",
    "Dentro de taxonomia numerica de los datos, se puede encontrar la siguiente\n",
    "clasificacion de la naturaleza de los datos para posibles caracterizaciones.\n",
    "\n",
    "### Datos doble estado o binarios.\n",
    "Son obtenidos cuando solo presentan\n",
    "en la caracteristica evaluada dos posibilidades de respuesta, como ausencia o presencia de alguna caracteristica. Generalmente son codificadas\n",
    "como 0 para las negativas y 1 para las positivas. Presentan una distribucion estadistica binomial y el calculo de sus estadisticos basicos deben de\n",
    "realizarse con las formulas diseadas para esta distribucion \n",
    "\n",
    "### Datos multi estado o cualitativos.\n",
    "Presentan mas de dos posibilidades\n",
    "de respuesta y pueden ser con secuencia logica o sin esta, es decir, este\n",
    "tipo de datos engloba a los estadisticos nominales (sin secuencia logica) y\n",
    "a los ordinales (con secuencia logica), cada uno de ellos con caracteristicas\n",
    "propias y metodos diseados para cada uno\n",
    "\n",
    "#### Datos nominales\n",
    "Son aquellos con mas de dos posibilidades de\n",
    "respuesta pero que no llevan un orden logico. Por ejemplo, a los\n",
    "colores se pueden asignar un numero a cada uno, es decir, rojo = 1,\n",
    "amarillo = 2, azul = 3, etc; sin embargo, no se puede concluir que\n",
    "rojo es menor que azul, son diferentes pero no en orden o secuencia\n",
    "logica.\n",
    "\n",
    "#### Datos ordinales.\n",
    "Pueden ser ordenados con una secuencia logica.\n",
    "Por ejemplo, al tamao de hoja se puede asignar un numero para\n",
    "designar que tan grande es, es decir, que puede ser chica = 1, mediana\n",
    "= 2, grande = 3. En este caso si se puede decir que grande es mas que\n",
    "chica o que la mediana aunque no de una manera cuantitativa. Estos\n",
    "datos cumplen generalmente con las distribuciones polinomiales u\n",
    "otras distribuciones derivadas de variables discretas. No obstante,\n",
    "datos ordinales y nominales son estadisticamente diferentes.\n",
    "\n",
    "\n",
    "### Datos cuantitativos. \n",
    "\n",
    "Son datos que pueden contarse y que son continuos (presentan cualquier valor real); generalmente con una distribucion normal e incluso algunos datos discretos pueden ser utilizados con\n",
    "un buen muestreo, pero mediante estadisticos de tendencia central para\n",
    "obtener normalidad. Ejemplos de este tipo de datos pueden ser la altura\n",
    "de planta, peso de fruto y de semilla, cantidad de materia, numero de\n",
    "hojas, de frutos y de flores, entre otras (si el muestreo es adecuado)\n",
    "\n"
   ]
  },
  {
   "cell_type": "code",
   "execution_count": null,
   "metadata": {},
   "outputs": [],
   "source": []
  },
  {
   "cell_type": "code",
   "execution_count": null,
   "metadata": {},
   "outputs": [],
   "source": []
  },
  {
   "cell_type": "markdown",
   "metadata": {},
   "source": [
    "## Actividad 2\n",
    "\n",
    "Utilizando el archivo **bank.csv** que se encuentra en la carpeta de Data, obtenga la clasificación de tipos de datos que se tienen en todo el dataset. \n",
    "\n",
    ">Cree una función **get_binarios(dataset)** que retorne en una lista las columnas que representan los datos de tipo binarios.\n",
    "\n",
    ">Cree una función **get_cualitativos(dataset)** que retorne en una lista las columnas que representan los datos cualitativos nominales y ordinales. Después identifique cuáles serían las columnas que representan datos cualitativos ordinales y datos cualitativos nominales.\n",
    "\n",
    ">Cree una función **get_cuantitativos(dataset)** que retorne en una lista las columnas que representan los datos de tipo cuantitativos.\n",
    "\n",
    "puede utilizar el método pd.select_dtypes() para poder identificar el tipo de dato.\n"
   ]
  },
  {
   "cell_type": "code",
   "execution_count": null,
   "metadata": {},
   "outputs": [],
   "source": []
  },
  {
   "cell_type": "code",
   "execution_count": null,
   "metadata": {},
   "outputs": [],
   "source": []
  },
  {
   "cell_type": "code",
   "execution_count": null,
   "metadata": {},
   "outputs": [],
   "source": []
  },
  {
   "cell_type": "code",
   "execution_count": null,
   "metadata": {},
   "outputs": [],
   "source": []
  },
  {
   "cell_type": "code",
   "execution_count": null,
   "metadata": {},
   "outputs": [],
   "source": []
  }
 ],
 "metadata": {
  "kernelspec": {
   "display_name": "Python 3 (ipykernel)",
   "language": "python",
   "name": "python3"
  },
  "language_info": {
   "codemirror_mode": {
    "name": "ipython",
    "version": 3
   },
   "file_extension": ".py",
   "mimetype": "text/x-python",
   "name": "python",
   "nbconvert_exporter": "python",
   "pygments_lexer": "ipython3",
   "version": "3.8.8"
  }
 },
 "nbformat": 4,
 "nbformat_minor": 4
}
