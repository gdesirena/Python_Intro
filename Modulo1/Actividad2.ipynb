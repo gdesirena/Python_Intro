{
 "cells": [
  {
   "cell_type": "markdown",
   "metadata": {},
   "source": [
    "<img style=\"float: left;;\" src='Imagenes/iteso.jpg' width=\"50\" height=\"100\"/></a>\n",
    "\n",
    "# <center> <font color= #000047> Tarea 2: Clases"
   ]
  },
  {
   "cell_type": "markdown",
   "metadata": {},
   "source": [
    "<img style=\"float: right; margin: 0px 0px 15px 15px;\" src=\"https://upload.wikimedia.org/wikipedia/commons/6/62/CPT-OOP-objects_and_classes.svg\" width=\"300px\" height=\"300px\" />\n",
    "\n",
    "Cada clase que veamos tendrá una tarea asignada, la cual contendrá problemas varios que se pueden resolver con lo visto en clase, de manera que puedas practicar lo que acabas de aprender.\n",
    "\n",
    "En esta ocasión, la tarea tendrá ejercicios relativos a la clase 3, de programación orientada a objetos.\n",
    "\n",
    "Para resolver la tarea, por favor cambiar el nombre del archivo a \"Tarea2_ApellidoNombre.ipynb\", sin acentos ni letras ñ (ejemplo: en mi caso, el archivo se llamaría \"Tarea2_JimenezEsteban.ipynb\"). Luego de haber cambiado el nombre, resolver cada uno de los puntos en los espacios provistos.\n",
    "\n",
    "Referencias:\n",
    "- https://realpython.com/python3-object-oriented-programming/\n",
    "- https://www.w3resource.com/python-exercises/class-exercises/\n",
    "- https://anandology.com/python-practice-book/object_oriented_programming.html\n",
    "___"
   ]
  },
  {
   "cell_type": "markdown",
   "metadata": {},
   "source": [
    "## 1. \n",
    "\n",
    "Usando la clase `Perro()` que definimos en la clase, instanciar tres nuevos perros, cada uno con edades diferentes.\n",
    "\n",
    "Luego, fuera de la clase, escriba una función llamada `perro_mas_viejo()`, cuyos argumentos sean 3 objetos de la clase perro e imprima el nombre del perro más viejo con su edad; algo como:\n",
    "\n",
    "> El perro más viejo es `firulais`, y tiene `8` años."
   ]
  },
  {
   "cell_type": "code",
   "execution_count": null,
   "metadata": {},
   "outputs": [],
   "source": []
  },
  {
   "cell_type": "code",
   "execution_count": null,
   "metadata": {},
   "outputs": [],
   "source": []
  },
  {
   "cell_type": "code",
   "execution_count": null,
   "metadata": {},
   "outputs": [],
   "source": []
  },
  {
   "cell_type": "markdown",
   "metadata": {},
   "source": [
    "## 2. \n",
    "\n",
    "Escriba una clase cuyo nombre sea `Circulo`, la cual tenga un atributo de instancia `radio`, y dos métodos para calcular el área y el perímetro del círculo.\n",
    "\n",
    "Además, instancie tres círculos con diferentes radios y calcule su área y su perímetro."
   ]
  },
  {
   "cell_type": "code",
   "execution_count": null,
   "metadata": {},
   "outputs": [],
   "source": []
  },
  {
   "cell_type": "code",
   "execution_count": null,
   "metadata": {},
   "outputs": [],
   "source": []
  },
  {
   "cell_type": "code",
   "execution_count": null,
   "metadata": {},
   "outputs": [],
   "source": []
  },
  {
   "cell_type": "code",
   "execution_count": null,
   "metadata": {},
   "outputs": [],
   "source": []
  },
  {
   "cell_type": "code",
   "execution_count": null,
   "metadata": {},
   "outputs": [],
   "source": []
  },
  {
   "cell_type": "markdown",
   "metadata": {},
   "source": [
    "## 3.\n",
    "\n",
    "Escriba una clase cuyo nombre sea `CuentaBancaria`, y que inicialice un atributo de instancia llamado `saldo` con valor cero. Además, esta clase debe contener tres métodos:\n",
    "- método `depositar()`: el cual reciba el monto de depósito y actualice el atributo de `saldo`;\n",
    "- método `retirar()`: el cual reciba el monto a retirar, y actualice el atributo de `saldo`;\n",
    "- método `imprimir_saldo()`: el cual imprima el saldo actual de la cuenta.\n",
    "\n",
    "Instancie una cuenta bancaria, y haga varios retiros y depósitos."
   ]
  },
  {
   "cell_type": "code",
   "execution_count": null,
   "metadata": {},
   "outputs": [],
   "source": []
  },
  {
   "cell_type": "code",
   "execution_count": null,
   "metadata": {},
   "outputs": [],
   "source": []
  },
  {
   "cell_type": "code",
   "execution_count": null,
   "metadata": {},
   "outputs": [],
   "source": []
  },
  {
   "cell_type": "code",
   "execution_count": null,
   "metadata": {},
   "outputs": [],
   "source": []
  },
  {
   "cell_type": "markdown",
   "metadata": {},
   "source": [
    "## 4.\n",
    "\n",
    "A partir de lo resuelto en el problema anterior, cree una clase llamada `CuentaSaldoMinimo` que herede de la clase `CuentaBancaria`.\n",
    "\n",
    "La clase hija `CuentaSaldoMinimo` debe requerir un parámetro adicional de *saldo mínimo*, y debe sobreescribir el método `retirar()` de la clase padre, de forma que al llamar el método `retirar()`:\n",
    "- si el saldo que resultaría después del retiro es mayor al saldo mínimo, se efectúa el retiro;\n",
    "- si el saldo que resultaría después del retiro es menor al saldo mínimo, se imprima un mensaje con la cantidad máxima que se puede retirar y no se efectúe el retiro.\n",
    "\n",
    "Instancie una cuenta bancaria con saldo mínimo, y haga varios retiros y depósitos."
   ]
  },
  {
   "cell_type": "code",
   "execution_count": null,
   "metadata": {},
   "outputs": [],
   "source": []
  },
  {
   "cell_type": "code",
   "execution_count": null,
   "metadata": {},
   "outputs": [],
   "source": []
  },
  {
   "cell_type": "code",
   "execution_count": null,
   "metadata": {},
   "outputs": [],
   "source": []
  },
  {
   "cell_type": "code",
   "execution_count": null,
   "metadata": {},
   "outputs": [],
   "source": []
  },
  {
   "cell_type": "code",
   "execution_count": null,
   "metadata": {},
   "outputs": [],
   "source": []
  },
  {
   "cell_type": "code",
   "execution_count": null,
   "metadata": {},
   "outputs": [],
   "source": []
  },
  {
   "cell_type": "code",
   "execution_count": null,
   "metadata": {},
   "outputs": [],
   "source": []
  },
  {
   "cell_type": "markdown",
   "metadata": {},
   "source": [
    "<script>\n",
    "  $(document).ready(function(){\n",
    "    $('div.prompt').hide();\n",
    "    $('div.back-to-top').hide();\n",
    "    $('nav#menubar').hide();\n",
    "    $('.breadcrumb').hide();\n",
    "    $('.hidden-print').hide();\n",
    "  });\n",
    "</script>\n",
    "\n",
    "<footer id=\"attribution\" style=\"float:right; color:#808080; background:#fff;\">\n",
    "Created with Jupyter by Esteban Jiménez Rodríguez.\n",
    "</footer>"
   ]
  }
 ],
 "metadata": {
  "kernelspec": {
   "display_name": "Python 3",
   "language": "python",
   "name": "python3"
  },
  "language_info": {
   "codemirror_mode": {
    "name": "ipython",
    "version": 3
   },
   "file_extension": ".py",
   "mimetype": "text/x-python",
   "name": "python",
   "nbconvert_exporter": "python",
   "pygments_lexer": "ipython3",
   "version": "3.8.8"
  }
 },
 "nbformat": 4,
 "nbformat_minor": 2
}
