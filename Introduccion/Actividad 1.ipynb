{
 "cells": [
  {
   "cell_type": "markdown",
   "metadata": {},
   "source": [
    "\n",
    "# <center> <font color= #000047> Actividad 1: Introducción a Python"
   ]
  },
  {
   "cell_type": "markdown",
   "metadata": {},
   "source": [
    "\n",
    "<img style=\"float: right; margin: 0px 0px 15px 15px;\" src=\"https://www.python.org/static/community_logos/python-logo.png\" width=\"200px\" height=\"200px\" />\n",
    "\n",
    "Cada clase que veamos tendrá una tarea asignada, la cual contendrá problemas varios que se pueden resolver con lo visto en clase, de manera que puedas practicar lo que acabas de aprender.\n",
    "\n",
    "En esta ocasión, dados los problemas que tuvimos, la primer tarea tendrá conceptos de las dos primeras clases.\n",
    "\n",
    "Referencia:\n",
    "- https://www.kaggle.com/learn/python\n",
    "___"
   ]
  },
  {
   "cell_type": "markdown",
   "metadata": {},
   "source": [
    "## 1. \n",
    "Complete el código"
   ]
  },
  {
   "cell_type": "code",
   "execution_count": null,
   "metadata": {},
   "outputs": [],
   "source": [
    "pi = 3.14159 # aproximadamente\n",
    "diametro = 3\n",
    "\n",
    "# Crear una variable llamada \"radio\" (sin las comillas), igual a la mitad del diámetro\n",
    "\n",
    "# Imprimir el radio\n",
    "\n",
    "# Crear una variable llamada \"area\" (sin las comillas), usando la formula para el area del circulo: pi por el radio al cuadrado\n",
    "\n",
    "# Imprimir el area\n"
   ]
  },
  {
   "cell_type": "markdown",
   "metadata": {},
   "source": [
    "## 2. \n",
    "Añada código para intercambiar los valores de las variables `a` y `b`, de manera que `a` tome el valor actual de `b` y viceversa.\n",
    "\n",
    "Mucho cuidado, no se vale escribir directamente los valores. Es decir\n",
    "\n",
    "`>>> a = [3, 2, 1]`\n",
    "\n",
    "`>>> b = [1, 2, 3]`\n",
    "\n",
    "no es una solución válida."
   ]
  },
  {
   "cell_type": "code",
   "execution_count": null,
   "metadata": {},
   "outputs": [],
   "source": [
    "########### Código inicial. No tocar esta parte ######################\n",
    "# El tipo de variables a continuación son listas. Estudiaremos este\n",
    "# tipo de variables la próxima clase. Por ahora, basta con saber que\n",
    "# son otro tipo de variables de Python, como los int, o float.\n",
    "a = [1, 2, 3]\n",
    "b = [3, 2, 1]\n",
    "######################################################################\n",
    "\n",
    "# Tu código va acá.\n"
   ]
  },
  {
   "cell_type": "markdown",
   "metadata": {},
   "source": [
    "## 3. \n",
    "\n",
    "### a) \n",
    "Añadir paréntesis a la siguiente expresión de modo que el resultado sea 1"
   ]
  },
  {
   "cell_type": "code",
   "execution_count": null,
   "metadata": {},
   "outputs": [],
   "source": [
    "5 - 3 // 2"
   ]
  },
  {
   "cell_type": "markdown",
   "metadata": {},
   "source": [
    "### b) \n",
    "Añadir paréntesis a la siguiente expresión de modo que el resultado sea 0"
   ]
  },
  {
   "cell_type": "code",
   "execution_count": null,
   "metadata": {},
   "outputs": [],
   "source": [
    "8 - 3 * 2 - 1 + 1"
   ]
  },
  {
   "cell_type": "markdown",
   "metadata": {},
   "source": [
    "## 4. \n",
    "\n",
    "Juan, María y Alberto acordaron juntar todos los dulces que obtuvieran en Halloween y dividirlo en partes iguales para todos. Para que no haya ningún problema y su amistad se conserve, los dulces que sobren despues de dividir en 3 partes iguales serán tirados. Por ejemplo, si entre todos juntan 91 dulces, tomarán 30 cada uno y tirarán 1.\n",
    "\n",
    "Escribe una expresión aritmética para calcular cuántos dulces deben ser tirados dados los dulces que recojan cada uno."
   ]
  },
  {
   "cell_type": "code",
   "execution_count": null,
   "metadata": {},
   "outputs": [],
   "source": [
    "# Variables que representan el número de dulces juntados por Juan, María y Alberto\n",
    "dulces_juan = 121\n",
    "dulces_maria = 77\n",
    "dulces_alberto = 109\n",
    "\n",
    "# Escriba en el lado derecho una expresión aritmética de los dulces que deben ser tirados\n",
    "dulces_sobrantes = "
   ]
  },
  {
   "cell_type": "markdown",
   "metadata": {},
   "source": [
    "## 5. \n",
    "Escriba el código para la siguiente función de acuerdo a la descripción en la documentación.\n",
    "\n",
    "**Asegúrate de probar tu función**"
   ]
  },
  {
   "cell_type": "code",
   "execution_count": null,
   "metadata": {},
   "outputs": [],
   "source": [
    "def redondear_a_dos_decimales(num):\n",
    "    \"\"\"\n",
    "    Devuelve el número dado redondeado a dos cifras decimales. \n",
    "    \n",
    "    >>> redondear_a_dos_decimales(3.14159)\n",
    "    3.14\n",
    "    \"\"\"\n",
    "    # Reemplaza el código con tu solución\n",
    "    # (\"pass\" es una palabra clave que no hace nada. La usamos acá\n",
    "    # para que haga espacio, porque una vez que empezamos un bloque\n",
    "    # de código Python requiere que se escriba por lo menos una línea.)\n",
    "    pass"
   ]
  },
  {
   "cell_type": "markdown",
   "metadata": {},
   "source": [
    "## 6. \n",
    "Aplicando la función `help()` sobre la función `round()`, dice que el parámetro de entrada `ndigits` puede ser negativo. Elija bien el valor del parámetro `ndigits` para que la siguiente celda imprima el número 2300."
   ]
  },
  {
   "cell_type": "code",
   "execution_count": null,
   "metadata": {},
   "outputs": [],
   "source": [
    "print(round(2345.32, ndigits=))"
   ]
  },
  {
   "cell_type": "markdown",
   "metadata": {},
   "source": [
    "## 7. \n",
    "\n",
    "En el ejercicio 4, presentamos tres amigos que compartían dulces. Como resultado, ellos tenían un total de dulces que debían repartir en partes iguales entre ellos. Los dulces restantes debían ser tirados. Por ejemplo, si entre todos juntaban 91 dulces, tomarían 30 cada uno y tiraían 1.\n",
    "\n",
    "Allí, escribiste un código para calcular cuántos dulces debían tirar, suponiendo que cada uno había juntado un número particular.\n",
    "\n",
    "Abajo presentamos una simple función que calcula el número de dulces a tirar para cualquier cantidad de dulces totales. Modificarla de manera que reciba opcionalmente un segundo argumento que represente el número de amigos entre los cuales se van a repartir los dulces. Si no se recibe un segundo argumento, por defecto se deben asumir 3 amigos, como antes.\n",
    "\n",
    "**Asegúrate de probar tu función**"
   ]
  },
  {
   "cell_type": "code",
   "execution_count": null,
   "metadata": {},
   "outputs": [],
   "source": [
    "def dulces_sobrantes(dulces_totales):\n",
    "    \"\"\"\n",
    "    Devuelve el número de dulces sobrantes que deben ser tirados luego\n",
    "    de distribuir el número de dulces_totales en partes iguales entre\n",
    "    los tres amigos.\n",
    "    \n",
    "    >>> dulces_sobrantes(91)\n",
    "    1\n",
    "    \"\"\"\n",
    "    return dulces_totales % 3"
   ]
  },
  {
   "cell_type": "markdown",
   "metadata": {},
   "source": [
    "## 8. \n",
    "\n",
    "Puede no ser divertido, pero leer y entender los mensajes de error que nos brinda Python es muy, MUY importante.\n",
    "\n",
    "Cada celda abajo contiene codigos con errores.\n",
    "\n",
    "Para cada celda:\n",
    "1. Leer el código y pensar qué crees que pasa cuando corra.\n",
    "2. Correr la celda y ver qué pasa.\n",
    "3. Arregla el código, de modo que no arroje ningún error."
   ]
  },
  {
   "cell_type": "code",
   "execution_count": null,
   "metadata": {},
   "outputs": [],
   "source": [
    "redondear_a_dos_decimales(9,9999)"
   ]
  },
  {
   "cell_type": "code",
   "execution_count": null,
   "metadata": {},
   "outputs": [],
   "source": [
    "x = -10\n",
    "y = 5\n",
    "# Cuál de las dos variables tiene el valor absoluto más pequeño?\n",
    "abs_mas_pequeño = min(abs(x) abs(y))\n",
    "abs_mas_pequeño"
   ]
  },
  {
   "cell_type": "code",
   "execution_count": null,
   "metadata": {},
   "outputs": [],
   "source": [
    "def f(x):\n",
    "y = abs(x)\n",
    "return y\n",
    "\n",
    "print(f(5))"
   ]
  },
  {
   "cell_type": "markdown",
   "metadata": {},
   "source": [
    "## 9. \n",
    "\n",
    "Muchos lenguajes de programación tienen la función [sign](https://en.wikipedia.org/wiki/Sign_function) disponible como parte de la librería estándar. Python no la tiene, ¡pero podemos definir nuestra propia función!\n",
    "\n",
    "En la celda siguiente, defina una función llamada `sign`, que tome un argumento numérico y devuelva -1 si el número es negativo, 1 si es positivo y 0 si es 0.\n",
    "\n",
    "**Asegúrate de probar tu función**"
   ]
  },
  {
   "cell_type": "code",
   "execution_count": null,
   "metadata": {},
   "outputs": [],
   "source": [
    "# Definir una función llamada sign con las especificaciones dadas\n"
   ]
  },
  {
   "cell_type": "markdown",
   "metadata": {},
   "source": [
    "## 10. \n",
    "\n",
    "La función `es_negativo()` en la celda de abajo es correcta (devuelve `True` si el número dado es negativo y `False` de otro modo).\n",
    "\n",
    "Sin embargo, se usan muchas líneas de código para una tarea tan simple. Podemos reducir el número de líneas de código en esta función en un 75`%`, con exactamente el mismo resultado.\n",
    "\n",
    "Veamos si puedes obtener una función equivalente que use solo una línea de código. Escribir tu solución en la función `es_negativo_conciso()`.\n",
    "\n",
    "**Asegúrate de probar tu función**"
   ]
  },
  {
   "cell_type": "code",
   "execution_count": null,
   "metadata": {},
   "outputs": [],
   "source": [
    "def es_negativo(num):\n",
    "    if num < 0:\n",
    "        return True\n",
    "    else:\n",
    "        return False\n",
    "\n",
    "def es_negativo_conciso(number):\n",
    "    pass"
   ]
  },
  {
   "cell_type": "markdown",
   "metadata": {},
   "source": [
    "## 11.\n",
    "\n",
    "Las variables booleanas `ketchup`, `mostaza` y `cebolla` representan si un cliente quiere un ingrediente en particular en su hot dog. Queremos implementar varias funciones booleanas que correspondan a ciertas preguntas de si o no acerca del pedido del criente.\n",
    "\n",
    "Por ejemplo:"
   ]
  },
  {
   "cell_type": "code",
   "execution_count": null,
   "metadata": {},
   "outputs": [],
   "source": [
    "def sin_cebolla(ketchup, mostaza, cebolla):\n",
    "    \"\"\"\n",
    "    Devuelve True si el cliente no quiere cebolla, y False de lo contrario.\n",
    "    \"\"\"\n",
    "    return not cebolla"
   ]
  },
  {
   "cell_type": "code",
   "execution_count": null,
   "metadata": {},
   "outputs": [],
   "source": [
    "sin_cebolla(True, False, True), sin_cebolla(False, True, False)"
   ]
  },
  {
   "cell_type": "markdown",
   "metadata": {},
   "source": [
    "Para las siguientes funciones escriba el código para que la función haga lo que se dice en su documentación.\n",
    "\n",
    "**Asegúrate de probar tus funciones**"
   ]
  },
  {
   "cell_type": "code",
   "execution_count": null,
   "metadata": {},
   "outputs": [],
   "source": [
    "def todos_los_ingredientes(ketchup, mostaza, cebolla):\n",
    "    \"\"\"\n",
    "    Devuelve True si el cliente quiere todos los ingredientes, y False de lo contrario\n",
    "    \"\"\"\n",
    "    return ketchup and mostaza and cebolla"
   ]
  },
  {
   "cell_type": "code",
   "execution_count": null,
   "metadata": {},
   "outputs": [],
   "source": [
    "def sin_ingrediente(ketchup, mostaza, cebolla):\n",
    "    \"\"\"\n",
    "    Devuelve True si el cliente no quiere ningún ingrediente, y False de lo contrario.\n",
    "    \"\"\"\n",
    "    pass"
   ]
  },
  {
   "cell_type": "code",
   "execution_count": null,
   "metadata": {},
   "outputs": [],
   "source": [
    "def solo_un_aderezo(ketchup, mostaza, cebolla):\n",
    "    \"\"\"\n",
    "    Devuelve True si el cliente quiere ketchup o mostaza, pero no ambos.\n",
    "    \"\"\"\n",
    "    pass"
   ]
  },
  {
   "cell_type": "markdown",
   "metadata": {},
   "source": [
    "## 12.\n",
    "Hemos visto que llamar la función `bool()` sobre un número entero devuelve `False` si el número es igual a 0 y `True` en otro caso. Qué pasa si llamamos `int()` sobre un booleano? Inténtalo en la siguiente celda."
   ]
  },
  {
   "cell_type": "code",
   "execution_count": null,
   "metadata": {},
   "outputs": [],
   "source": []
  },
  {
   "cell_type": "markdown",
   "metadata": {},
   "source": [
    "¿Puedes usar esto para escribir una función que devuelva `True` si el cliente quiere uno y sólo un ingrediente y `False` de lo contrario?\n",
    "\n",
    "**Asegúrate de probar tu función**"
   ]
  },
  {
   "cell_type": "code",
   "execution_count": null,
   "metadata": {},
   "outputs": [],
   "source": [
    "def exactamente_un_ingrediente(ketchup, mostaza, cebolla):\n",
    "    \"\"\"\n",
    "    Devuelve True si el ciente quiere exactamente un ingrediente, False de lo contrario.\n",
    "    \"\"\"\n",
    "    pass"
   ]
  },
  {
   "cell_type": "code",
   "execution_count": null,
   "metadata": {},
   "outputs": [],
   "source": []
  },
  {
   "cell_type": "markdown",
   "metadata": {},
   "source": [
    "## 13.\n",
    "\n",
    "Escriba el cuerpo de la siguiente función de acuerdo a su documentación."
   ]
  },
  {
   "cell_type": "code",
   "execution_count": null,
   "metadata": {},
   "outputs": [],
   "source": [
    "def segundo_elemento(L):\n",
    "    \"\"\"\n",
    "    Devuelve el segundo elemento de la lista dada. Si la lista no tiene \n",
    "    segundo elemento, devuelve None.\n",
    "    \n",
    "    >>> segundo_elemento([10, 4, 9, 10])\n",
    "    4\n",
    "    >>> segundo_elemento([5])\n",
    "    \n",
    "    \"\"\"\n",
    "    return L[1] if len(L)>=2 else None"
   ]
  },
  {
   "cell_type": "code",
   "execution_count": null,
   "metadata": {},
   "outputs": [],
   "source": [
    "def elemento_n(L, n):\n",
    "    return L[n-1] if len(L)>=n else None"
   ]
  },
  {
   "cell_type": "markdown",
   "metadata": {},
   "source": [
    "Prueba tu función:"
   ]
  },
  {
   "cell_type": "code",
   "execution_count": null,
   "metadata": {},
   "outputs": [],
   "source": []
  },
  {
   "cell_type": "markdown",
   "metadata": {},
   "source": [
    "## 14.\n",
    "\n",
    "Implemente el cuerpo de la siguiente función de acuerdo a su domuentación **utilizando únicamente listas y sus métodos: NO SE ACEPTA EL USO DE CICLOS!**"
   ]
  },
  {
   "cell_type": "code",
   "execution_count": null,
   "metadata": {},
   "outputs": [],
   "source": [
    "def cuantos_negativos(lista):\n",
    "    \"\"\"\n",
    "    Devuelve la cantidad de números negativos en la lista dada.\n",
    "    \n",
    "    >>> cuantos_negativos([5, -1, -2, 0, 3])\n",
    "    2\n",
    "    \"\"\""
   ]
  },
  {
   "cell_type": "markdown",
   "metadata": {},
   "source": [
    "**Ayuda: `help(list.sort)`, `help(list.index)`, `help(list.append)`**\n",
    "\n",
    "Prueba tu función:"
   ]
  },
  {
   "cell_type": "code",
   "execution_count": null,
   "metadata": {},
   "outputs": [],
   "source": []
  },
  {
   "cell_type": "code",
   "execution_count": null,
   "metadata": {},
   "outputs": [],
   "source": []
  },
  {
   "cell_type": "markdown",
   "metadata": {},
   "source": [
    "## 15.\n",
    "\n",
    "La siguiente función no funciona correctamente de acuerdo a lo descrito en su documentación. A esto en programación se le llama un bug. Al correr la función no se marca ningún error, pero la función no hace lo que debería hacer.\n",
    "\n",
    "Identifica el bug de la siguiente función y arréglalo:"
   ]
  },
  {
   "cell_type": "code",
   "execution_count": null,
   "metadata": {},
   "outputs": [],
   "source": [
    "def es_chida(nums):\n",
    "    \"\"\"\n",
    "    Devuelve True si la lista dada es chida. Una lista chida es aquella que \n",
    "    contiene al menos un número divisible por 7.\n",
    "    \n",
    "    >>> es_chida([1, 14, 3, 8])\n",
    "    True\n",
    "    \"\"\"\n",
    "    for num in nums:\n",
    "        if num % 7 == 0:\n",
    "            return True\n",
    "        else:\n",
    "            return False"
   ]
  },
  {
   "cell_type": "markdown",
   "metadata": {},
   "source": [
    "Muestra que tu función corregida funciona correctamente:"
   ]
  },
  {
   "cell_type": "code",
   "execution_count": null,
   "metadata": {},
   "outputs": [],
   "source": []
  },
  {
   "cell_type": "markdown",
   "metadata": {},
   "source": [
    "## 16.\n",
    "\n",
    "Algunos dicen que \"los científicos de datos usan el 80% de su tiempo limpiando datos, y el 20% restante quejándose acerca de la limpieza de datos\". \n",
    "\n",
    "Veamos si puedes escribir una función que nos ayude a limpiar datos correspondientes a códigos postales.\n",
    "\n",
    "Dado un string, la función debe devolver True si dicho string representa un código postal válido, de lo contrario devuelve False. Para nuestros propósitos, un código postal es válido si es un string que contiene exactamente **5 dígitos**.\n",
    "\n",
    "Ayuda: **help(str.isdigit)**"
   ]
  },
  {
   "cell_type": "code",
   "execution_count": null,
   "metadata": {},
   "outputs": [],
   "source": [
    "def cp_valido(cp):\n",
    "    \"\"\"\n",
    "    Devuelve True si el string dado es un código postal válido:\n",
    "    string de 5 dígitos.\n",
    "    \n",
    "    >>> cp_valido('45017')\n",
    "    True\n",
    "    >>> cp_valido('450015')\n",
    "    False\n",
    "    >>> cp_valido('45a15')\n",
    "    False\n",
    "    \"\"\"\n",
    "    pass"
   ]
  },
  {
   "cell_type": "markdown",
   "metadata": {},
   "source": [
    "Prueba que tu función trabaje correctamente:"
   ]
  },
  {
   "cell_type": "code",
   "execution_count": null,
   "metadata": {},
   "outputs": [],
   "source": []
  },
  {
   "cell_type": "code",
   "execution_count": null,
   "metadata": {},
   "outputs": [],
   "source": []
  }
 ],
 "metadata": {
  "kernelspec": {
   "display_name": "Python 3 (ipykernel)",
   "language": "python",
   "name": "python3"
  },
  "language_info": {
   "codemirror_mode": {
    "name": "ipython",
    "version": 3
   },
   "file_extension": ".py",
   "mimetype": "text/x-python",
   "name": "python",
   "nbconvert_exporter": "python",
   "pygments_lexer": "ipython3",
   "version": "3.8.8"
  }
 },
 "nbformat": 4,
 "nbformat_minor": 2
}
